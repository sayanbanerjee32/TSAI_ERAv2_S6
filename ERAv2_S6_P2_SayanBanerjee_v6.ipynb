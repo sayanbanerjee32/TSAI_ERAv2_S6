{
  "nbformat": 4,
  "nbformat_minor": 0,
  "metadata": {
    "colab": {
      "provenance": [],
      "gpuType": "T4",
      "authorship_tag": "ABX9TyPwRGE/+SESzXAVorJBkGsT",
      "include_colab_link": true
    },
    "kernelspec": {
      "name": "python3",
      "display_name": "Python 3"
    },
    "language_info": {
      "name": "python"
    },
    "accelerator": "GPU"
  },
  "cells": [
    {
      "cell_type": "markdown",
      "metadata": {
        "id": "view-in-github",
        "colab_type": "text"
      },
      "source": [
        "<a href=\"https://colab.research.google.com/github/sayanbanerjee32/TSAI_ERAv2_S6/blob/main/ERAv2_S6_P2_SayanBanerjee_v6.ipynb\" target=\"_parent\"><img src=\"https://colab.research.google.com/assets/colab-badge.svg\" alt=\"Open In Colab\"/></a>"
      ]
    },
    {
      "cell_type": "markdown",
      "source": [
        "\n",
        "\n",
        "# Import all required packages"
      ],
      "metadata": {
        "id": "n09vaEgP6pLj"
      }
    },
    {
      "cell_type": "code",
      "execution_count": null,
      "metadata": {
        "id": "QjH-6_NyAsnk"
      },
      "outputs": [],
      "source": [
        "from __future__ import print_function\n",
        "import torch\n",
        "import torch.nn as nn\n",
        "import torch.nn.functional as F\n",
        "import torch.optim as optim\n",
        "from torchvision import datasets, transforms\n",
        "from torchsummary import summary\n",
        "\n",
        "import matplotlib.pyplot as plt"
      ]
    },
    {
      "cell_type": "markdown",
      "source": [
        "## Check if GPU available"
      ],
      "metadata": {
        "id": "VjBHHQVA6sXt"
      }
    },
    {
      "cell_type": "code",
      "source": [
        "use_cuda = torch.cuda.is_available()\n",
        "device = torch.device(\"cuda\" if use_cuda else \"cpu\")"
      ],
      "metadata": {
        "id": "wCKtm5YTB4Cb"
      },
      "execution_count": null,
      "outputs": []
    },
    {
      "cell_type": "markdown",
      "source": [
        "## The model architecture"
      ],
      "metadata": {
        "id": "Vg0gY80PYAaO"
      }
    },
    {
      "cell_type": "code",
      "source": [
        "class Net(nn.Module):\n",
        "    def __init__(self,n = 8):\n",
        "        super(Net, self).__init__()\n",
        "        # Convolusion Block - Inital\n",
        "        #input size: 28 x 28 x 1, output size: 28 x 28 x n, receptive field: 3\n",
        "        self.convi = nn.Conv2d(1, n, 3, padding=1, bias = False)\n",
        "        self.bni = nn.BatchNorm2d(n)\n",
        "\n",
        "        # Convolusion Block - feature extraction\n",
        "        #input size: 28 x 28 x n, output size: 28 x 28 x n*2, receptive field: 3 + (3-1) * 1 = 5\n",
        "        self.conv1 = nn.Conv2d(n, n*2, 3, padding=1, bias = False)\n",
        "        self.bn1 = nn.BatchNorm2d(n*2)\n",
        "        #input size: 28 x 28 x n*2, output size: 28 x 28 x n*4, receptive field: 5 + (3-1) * 1 = 7\n",
        "        self.conv2 = nn.Conv2d(n*2, n*4, 3, padding=1, bias = False)\n",
        "        self.bn2 = nn.BatchNorm2d(n*4)\n",
        "\n",
        "        # Transition block - reduction in channel size and number\n",
        "        #input size: 28 x 28 x n*4, output size: 14 x 14 x n*4, receptive field: 7 + (3-1) * 1 = 8\n",
        "        self.pool1 = nn.MaxPool2d(2, 2)\n",
        "        #input size: 14 x 14 x n*4, output size: 14 x 14 x n, receptive field: 8 + (1-1)*2 = 8\n",
        "        self.antman1 = nn.Conv2d(n*4, n, kernel_size=1,bias = False)\n",
        "        self.bna1 = nn.BatchNorm2d(n)\n",
        "\n",
        "        # Convolusion Block - feature extraction\n",
        "        #input size: 14 x 14 x n, output size: 14 x 14 x n*2, receptive field: 8 + (3-1) * 2 = 12\n",
        "        self.conv3 = nn.Conv2d(n, n*2, 3, padding=1, bias = False)\n",
        "        self.bn3 = nn.BatchNorm2d(n*2)\n",
        "        #input size: 14 x 14 x n*2, output size: 14 x 14 x n*4, receptive field: 12 + (3-1) * 2 = 16\n",
        "        self.conv4 = nn.Conv2d(n*2, n*4, 3, padding=1, bias = False)\n",
        "        self.bn4 = nn.BatchNorm2d(n*4)\n",
        "\n",
        "        # Transition block - reduction in channel size and number\n",
        "        #input size: 14 x 14 x n*4, output size: 7 x 7 x n*4, receptive field: 16 + (2-1) * 2 =18\n",
        "        self.pool2 = nn.MaxPool2d(2, 2)\n",
        "        #input size: 7 x 7 x n*4, output size: 7 x 7 x n, receptive field: 18 + (1-1) * 4 =18\n",
        "        self.antman2 = nn.Conv2d(n*4, n, kernel_size=1, bias = False)\n",
        "        self.bna2 = nn.BatchNorm2d(n)\n",
        "\n",
        "        # Convolusion Block - feature extraction\n",
        "        #input size: 7 x 7 x n, output size: 7 x 7 x n*2, receptive field: 18 + (3-1) * 4 = 26\n",
        "        self.conv5 = nn.Conv2d(n, n*2, 3, padding=1, bias = False)\n",
        "        self.bn5 = nn.BatchNorm2d(n*2)\n",
        "        #input size: 7 x 7 x n*2, output size: 7 x 7 x n*4, receptive field: 26 + (3-1) * 4 = 34\n",
        "        self.conv6 = nn.Conv2d(n*2, n*4, 3, padding=1, bias = False)\n",
        "        self.bn6 = nn.BatchNorm2d(n*4)\n",
        "\n",
        "        # Transition block - - reduction in channel size\n",
        "        # and aligning number of channels to number of prediction classes\n",
        "        #input size: 7 x 7 x n*4, output size: 3 x 3 x n*4, receptive field: 34 + (2-1) * 4 = 38\n",
        "        self.pool3 = nn.MaxPool2d(2, 2)\n",
        "        #input size: 3 x 3 x n*4, output size: 3 x 3 x 10, receptive field: 38 + (1-1) * 8 = 38\n",
        "        self.antman3 = nn.Conv2d(n*4, 10, kernel_size=1, bias = False)\n",
        "\n",
        "    def forward(self, x):\n",
        "        x = self.bni(F.relu(self.convi(x))) #28 x 28\n",
        "\n",
        "        x = self.bn1(F.relu(self.conv1(x))) #28 x 28\n",
        "        x = self.bn2(F.relu(self.conv2(x))) #28 x 28\n",
        "        x = self.bna1(self.antman1(self.pool1(x))) #14 x 14\n",
        "        # dropout of 0.25 was not allowing model to train to the required level\n",
        "        # thus dropout is set to 0.1\n",
        "        x = F.dropout(x, 0.10) #14 x 14\n",
        "\n",
        "        x = self.bn3(F.relu(self.conv3(x))) #14 x 14\n",
        "        x = self.bn4(F.relu(self.conv4(x))) #14 x 14\n",
        "        x = self.bna2(self.antman2(self.pool2(x))) #7 x 7\n",
        "        # dropout of 0.25 was not allowing model to train to the required level\n",
        "        # thus dropout is set to 0.1\n",
        "        x = F.dropout(x, 0.10) #7 x 7\n",
        "\n",
        "        x = self.bn5(F.relu(self.conv5(x))) #7 x 7\n",
        "        x = self.bn6(F.relu(self.conv6(x))) #7 x 7\n",
        "        x = self.antman3(self.pool3(x)) #3 x 3\n",
        "\n",
        "        # Global average pooling instead of FC layer\n",
        "        #input size: 3 x 3 x 10, output size: 1 x 1 x 10 > len of 10\n",
        "        x = F.avg_pool2d(x, kernel_size = 3).squeeze()\n",
        "\n",
        "        # x = self.pool1(F.relu(self.conv2(F.relu(self.conv1(x)))))\n",
        "        # x = self.pool2(F.relu(self.conv4(F.relu(self.conv3(x)))))\n",
        "        # x = F.relu(self.conv6(F.relu(self.conv5(x))))\n",
        "        # x = F.relu(self.conv7(x))\n",
        "        # x = x.view(-1, 10)\n",
        "        return F.log_softmax(x)"
      ],
      "metadata": {
        "id": "lu5AWkLZ6vow"
      },
      "execution_count": null,
      "outputs": []
    },
    {
      "cell_type": "code",
      "source": [
        "# visualise model parameters\n",
        "model = Net().to(device)\n",
        "summary(model, input_size=(1, 28, 28))"
      ],
      "metadata": {
        "colab": {
          "base_uri": "https://localhost:8080/"
        },
        "id": "VvXAx-bp6zh0",
        "outputId": "c99d7249-7798-42b8-e9c2-f4ea1eaa6dc0"
      },
      "execution_count": null,
      "outputs": [
        {
          "output_type": "stream",
          "name": "stdout",
          "text": [
            "----------------------------------------------------------------\n",
            "        Layer (type)               Output Shape         Param #\n",
            "================================================================\n",
            "            Conv2d-1            [-1, 8, 28, 28]              72\n",
            "       BatchNorm2d-2            [-1, 8, 28, 28]              16\n",
            "            Conv2d-3           [-1, 16, 28, 28]           1,152\n",
            "       BatchNorm2d-4           [-1, 16, 28, 28]              32\n",
            "            Conv2d-5           [-1, 32, 28, 28]           4,608\n",
            "       BatchNorm2d-6           [-1, 32, 28, 28]              64\n",
            "         MaxPool2d-7           [-1, 32, 14, 14]               0\n",
            "            Conv2d-8            [-1, 8, 14, 14]             256\n",
            "       BatchNorm2d-9            [-1, 8, 14, 14]              16\n",
            "           Conv2d-10           [-1, 16, 14, 14]           1,152\n",
            "      BatchNorm2d-11           [-1, 16, 14, 14]              32\n",
            "           Conv2d-12           [-1, 32, 14, 14]           4,608\n",
            "      BatchNorm2d-13           [-1, 32, 14, 14]              64\n",
            "        MaxPool2d-14             [-1, 32, 7, 7]               0\n",
            "           Conv2d-15              [-1, 8, 7, 7]             256\n",
            "      BatchNorm2d-16              [-1, 8, 7, 7]              16\n",
            "           Conv2d-17             [-1, 16, 7, 7]           1,152\n",
            "      BatchNorm2d-18             [-1, 16, 7, 7]              32\n",
            "           Conv2d-19             [-1, 32, 7, 7]           4,608\n",
            "      BatchNorm2d-20             [-1, 32, 7, 7]              64\n",
            "        MaxPool2d-21             [-1, 32, 3, 3]               0\n",
            "           Conv2d-22             [-1, 10, 3, 3]             320\n",
            "================================================================\n",
            "Total params: 18,520\n",
            "Trainable params: 18,520\n",
            "Non-trainable params: 0\n",
            "----------------------------------------------------------------\n",
            "Input size (MB): 0.00\n",
            "Forward/backward pass size (MB): 0.94\n",
            "Params size (MB): 0.07\n",
            "Estimated Total Size (MB): 1.02\n",
            "----------------------------------------------------------------\n"
          ]
        },
        {
          "output_type": "stream",
          "name": "stderr",
          "text": [
            "<ipython-input-3-00a8ce833243>:55: UserWarning: Implicit dimension choice for log_softmax has been deprecated. Change the call to include dim=X as an argument.\n",
            "  return F.log_softmax(x)\n"
          ]
        }
      ]
    },
    {
      "cell_type": "markdown",
      "source": [
        "# Train and Test transformations"
      ],
      "metadata": {
        "id": "3UHq59Sw6tmW"
      }
    },
    {
      "cell_type": "code",
      "source": [
        "torch.manual_seed(1)\n",
        "# tries batch size of 64, 256 and 512 as well\n",
        "batch_size = 128\n",
        "\n",
        "kwargs = {'num_workers': 2, 'pin_memory': True} if use_cuda else {}\n",
        "train_loader = torch.utils.data.DataLoader(\n",
        "    datasets.MNIST('../data', train=True, download=True,\n",
        "                    transform=transforms.Compose([\n",
        "                    transforms.RandomApply([transforms.CenterCrop(22), ], p=0.1),\n",
        "                    transforms.Resize((28, 28)),\n",
        "                    transforms.RandomRotation((-15., 15.), fill=0),\n",
        "                    transforms.ToTensor(),\n",
        "                    transforms.Normalize((0.1307,), (0.3081,)),\n",
        "                    ])),\n",
        "    batch_size=batch_size, shuffle=True, **kwargs)\n",
        "test_loader = torch.utils.data.DataLoader(\n",
        "    datasets.MNIST('../data', train=False, transform=transforms.Compose([\n",
        "                        transforms.ToTensor(),\n",
        "                        transforms.Normalize((0.1307,), (0.3081,))\n",
        "                    ])),\n",
        "    batch_size=batch_size, shuffle=True, **kwargs)"
      ],
      "metadata": {
        "id": "lf-XASx760CL",
        "colab": {
          "base_uri": "https://localhost:8080/"
        },
        "outputId": "fba52f2a-5c58-4522-a757-fe65e27e3f11"
      },
      "execution_count": null,
      "outputs": [
        {
          "output_type": "stream",
          "name": "stdout",
          "text": [
            "Downloading http://yann.lecun.com/exdb/mnist/train-images-idx3-ubyte.gz\n",
            "Downloading http://yann.lecun.com/exdb/mnist/train-images-idx3-ubyte.gz to ../data/MNIST/raw/train-images-idx3-ubyte.gz\n"
          ]
        },
        {
          "output_type": "stream",
          "name": "stderr",
          "text": [
            "100%|██████████| 9912422/9912422 [00:00<00:00, 123859989.94it/s]\n"
          ]
        },
        {
          "output_type": "stream",
          "name": "stdout",
          "text": [
            "Extracting ../data/MNIST/raw/train-images-idx3-ubyte.gz to ../data/MNIST/raw\n",
            "\n",
            "Downloading http://yann.lecun.com/exdb/mnist/train-labels-idx1-ubyte.gz\n",
            "Downloading http://yann.lecun.com/exdb/mnist/train-labels-idx1-ubyte.gz to ../data/MNIST/raw/train-labels-idx1-ubyte.gz\n"
          ]
        },
        {
          "output_type": "stream",
          "name": "stderr",
          "text": [
            "100%|██████████| 28881/28881 [00:00<00:00, 130534152.83it/s]"
          ]
        },
        {
          "output_type": "stream",
          "name": "stdout",
          "text": [
            "Extracting ../data/MNIST/raw/train-labels-idx1-ubyte.gz to ../data/MNIST/raw\n",
            "\n",
            "Downloading http://yann.lecun.com/exdb/mnist/t10k-images-idx3-ubyte.gz\n"
          ]
        },
        {
          "output_type": "stream",
          "name": "stderr",
          "text": [
            "\n"
          ]
        },
        {
          "output_type": "stream",
          "name": "stdout",
          "text": [
            "Downloading http://yann.lecun.com/exdb/mnist/t10k-images-idx3-ubyte.gz to ../data/MNIST/raw/t10k-images-idx3-ubyte.gz\n"
          ]
        },
        {
          "output_type": "stream",
          "name": "stderr",
          "text": [
            "100%|██████████| 1648877/1648877 [00:00<00:00, 41331839.62it/s]"
          ]
        },
        {
          "output_type": "stream",
          "name": "stdout",
          "text": [
            "Extracting ../data/MNIST/raw/t10k-images-idx3-ubyte.gz to ../data/MNIST/raw\n",
            "\n",
            "Downloading http://yann.lecun.com/exdb/mnist/t10k-labels-idx1-ubyte.gz\n"
          ]
        },
        {
          "output_type": "stream",
          "name": "stderr",
          "text": [
            "\n"
          ]
        },
        {
          "output_type": "stream",
          "name": "stdout",
          "text": [
            "Downloading http://yann.lecun.com/exdb/mnist/t10k-labels-idx1-ubyte.gz to ../data/MNIST/raw/t10k-labels-idx1-ubyte.gz\n"
          ]
        },
        {
          "output_type": "stream",
          "name": "stderr",
          "text": [
            "100%|██████████| 4542/4542 [00:00<00:00, 4476158.08it/s]"
          ]
        },
        {
          "output_type": "stream",
          "name": "stdout",
          "text": [
            "Extracting ../data/MNIST/raw/t10k-labels-idx1-ubyte.gz to ../data/MNIST/raw\n",
            "\n"
          ]
        },
        {
          "output_type": "stream",
          "name": "stderr",
          "text": [
            "\n"
          ]
        }
      ]
    },
    {
      "cell_type": "markdown",
      "source": [
        "# Training"
      ],
      "metadata": {
        "id": "kCwIPHqwAQgB"
      }
    },
    {
      "cell_type": "code",
      "source": [
        "# Data to plot accuracy and loss graphs\n",
        "train_losses = []\n",
        "test_losses = []\n",
        "train_acc = []\n",
        "test_acc = []"
      ],
      "metadata": {
        "id": "PLGFjgLkqYCy"
      },
      "execution_count": null,
      "outputs": []
    },
    {
      "cell_type": "code",
      "source": [
        "## Functions for training and testing steps that will be called for each epoch\n",
        "from tqdm import tqdm\n",
        "## Return prediction count based on model prediction and targe\n",
        "def GetCorrectPredCount(pPrediction, pLabels):\n",
        "  return pPrediction.argmax(dim=1).eq(pLabels).sum().item()\n",
        "\n",
        "### train function that will be called for each epoch\n",
        "def train(model, device, train_loader, optimizer, criterion):\n",
        "  model.train()\n",
        "  pbar = tqdm(train_loader)\n",
        "\n",
        "  train_loss = 0\n",
        "  correct = 0\n",
        "  processed = 0\n",
        "\n",
        "  for batch_idx, (data, target) in enumerate(pbar):\n",
        "    # move all data to same device\n",
        "    data, target = data.to(device), target.to(device)\n",
        "    # No gradient accumulation\n",
        "    optimizer.zero_grad()\n",
        "\n",
        "    # Predict\n",
        "    pred = model(data)\n",
        "\n",
        "    # Calculate loss\n",
        "    # difference between molde prediction and target values based on criterion function provided as input\n",
        "    loss = criterion(pred, target)\n",
        "    train_loss+=loss.item()\n",
        "\n",
        "    # Backpropagation\n",
        "    loss.backward()\n",
        "    # takes a step, i.e. updates parameter values based on gradients\n",
        "    # these parameter values will be used for the next batch\n",
        "    optimizer.step()\n",
        "\n",
        "    correct += GetCorrectPredCount(pred, target)\n",
        "    processed += len(data)\n",
        "    # Shows traing progress with loss and accuracy update for each batch\n",
        "    pbar.set_description(desc= f'Train: Loss={loss.item():0.4f} Batch_id={batch_idx} Accuracy={100*correct/processed:0.2f}')\n",
        "\n",
        "  train_acc.append(100*correct/processed)\n",
        "  train_losses.append(train_loss/len(train_loader))\n",
        "\n",
        "### test function that will be called for each epoch\n",
        "def test(model, device, test_loader, criterion):\n",
        "    # switching on eval / test mode - dropouts will not be considered\n",
        "    model.eval()\n",
        "\n",
        "    test_loss = 0\n",
        "    correct = 0\n",
        "    # no gradient calculation is required for test\n",
        "    ## as parameters are not updated while test\n",
        "    with torch.no_grad():\n",
        "        for batch_idx, (data, target) in enumerate(test_loader):\n",
        "            data, target = data.to(device), target.to(device)\n",
        "\n",
        "            output = model(data)\n",
        "            # Calculate test loss -\n",
        "            # difference between molde prediction and target values based on criterion function provided as input\n",
        "            test_loss += criterion(output, target, reduction='sum').item()  # sum up batch loss\n",
        "            correct += GetCorrectPredCount(output, target)\n",
        "\n",
        "\n",
        "    test_loss /= len(test_loader.dataset)\n",
        "    test_acc.append(100. * correct / len(test_loader.dataset))\n",
        "    test_losses.append(test_loss)\n",
        "    # print test loss and accuracy after each epoch\n",
        "    print('Test set: Average loss: {:.4f}, Accuracy: {}/{} ({:.2f}%)\\n'.format(\n",
        "        test_loss, correct, len(test_loader.dataset),\n",
        "        100. * correct / len(test_loader.dataset)))"
      ],
      "metadata": {
        "id": "mdzacxNK7A96"
      },
      "execution_count": null,
      "outputs": []
    },
    {
      "cell_type": "code",
      "source": [
        "model = Net().to(device)\n",
        "optimizer = optim.SGD(model.parameters(), lr=0.01, momentum=0.9)\n",
        "# Multi step LR scheduler to reduce learning rate in 2 different intervals\n",
        "# so that higher epochs can be trained with lower learning rate\n",
        "scheduler = optim.lr_scheduler.MultiStepLR(optimizer, milestones=[10,16], gamma=0.1, verbose=True)\n",
        "\n",
        "# criterion = nn.CrossEntropyLoss()\n",
        "criterion = F.nll_loss\n",
        "# F.cross_entropy\n",
        "num_epochs = 20\n",
        "\n",
        "for epoch in range(1, num_epochs+1):\n",
        "  print(f'Epoch {epoch}')\n",
        "  train(model, device, train_loader, optimizer, criterion)\n",
        "  test(model, device, test_loader, criterion)\n",
        "  scheduler.step()"
      ],
      "metadata": {
        "colab": {
          "base_uri": "https://localhost:8080/"
        },
        "id": "wQ8VQKlg7FKQ",
        "outputId": "3af81bd0-9557-4aab-d844-f1648e2026d8"
      },
      "execution_count": null,
      "outputs": [
        {
          "output_type": "stream",
          "name": "stdout",
          "text": [
            "Adjusting learning rate of group 0 to 1.0000e-02.\n",
            "Epoch 1\n"
          ]
        },
        {
          "output_type": "stream",
          "name": "stderr",
          "text": [
            "\r  0%|          | 0/469 [00:00<?, ?it/s]<ipython-input-3-00a8ce833243>:55: UserWarning: Implicit dimension choice for log_softmax has been deprecated. Change the call to include dim=X as an argument.\n",
            "  return F.log_softmax(x)\n",
            "Train: Loss=0.1302 Batch_id=468 Accuracy=88.87: 100%|██████████| 469/469 [00:24<00:00, 19.42it/s]\n"
          ]
        },
        {
          "output_type": "stream",
          "name": "stdout",
          "text": [
            "Test set: Average loss: 0.0738, Accuracy: 9792/10000 (97.92%)\n",
            "\n",
            "Adjusting learning rate of group 0 to 1.0000e-02.\n",
            "Epoch 2\n"
          ]
        },
        {
          "output_type": "stream",
          "name": "stderr",
          "text": [
            "Train: Loss=0.0573 Batch_id=468 Accuracy=97.31: 100%|██████████| 469/469 [00:22<00:00, 20.95it/s]\n"
          ]
        },
        {
          "output_type": "stream",
          "name": "stdout",
          "text": [
            "Test set: Average loss: 0.0477, Accuracy: 9841/10000 (98.41%)\n",
            "\n",
            "Adjusting learning rate of group 0 to 1.0000e-02.\n",
            "Epoch 3\n"
          ]
        },
        {
          "output_type": "stream",
          "name": "stderr",
          "text": [
            "Train: Loss=0.1534 Batch_id=468 Accuracy=97.96: 100%|██████████| 469/469 [00:21<00:00, 21.72it/s]\n"
          ]
        },
        {
          "output_type": "stream",
          "name": "stdout",
          "text": [
            "Test set: Average loss: 0.0498, Accuracy: 9854/10000 (98.54%)\n",
            "\n",
            "Adjusting learning rate of group 0 to 1.0000e-02.\n",
            "Epoch 4\n"
          ]
        },
        {
          "output_type": "stream",
          "name": "stderr",
          "text": [
            "Train: Loss=0.0458 Batch_id=468 Accuracy=98.14: 100%|██████████| 469/469 [00:22<00:00, 21.01it/s]\n"
          ]
        },
        {
          "output_type": "stream",
          "name": "stdout",
          "text": [
            "Test set: Average loss: 0.0366, Accuracy: 9887/10000 (98.87%)\n",
            "\n",
            "Adjusting learning rate of group 0 to 1.0000e-02.\n",
            "Epoch 5\n"
          ]
        },
        {
          "output_type": "stream",
          "name": "stderr",
          "text": [
            "Train: Loss=0.0647 Batch_id=468 Accuracy=98.38: 100%|██████████| 469/469 [00:22<00:00, 21.07it/s]\n"
          ]
        },
        {
          "output_type": "stream",
          "name": "stdout",
          "text": [
            "Test set: Average loss: 0.0342, Accuracy: 9901/10000 (99.01%)\n",
            "\n",
            "Adjusting learning rate of group 0 to 1.0000e-02.\n",
            "Epoch 6\n"
          ]
        },
        {
          "output_type": "stream",
          "name": "stderr",
          "text": [
            "Train: Loss=0.0840 Batch_id=468 Accuracy=98.59: 100%|██████████| 469/469 [00:22<00:00, 21.30it/s]\n"
          ]
        },
        {
          "output_type": "stream",
          "name": "stdout",
          "text": [
            "Test set: Average loss: 0.0307, Accuracy: 9909/10000 (99.09%)\n",
            "\n",
            "Adjusting learning rate of group 0 to 1.0000e-02.\n",
            "Epoch 7\n"
          ]
        },
        {
          "output_type": "stream",
          "name": "stderr",
          "text": [
            "Train: Loss=0.0320 Batch_id=468 Accuracy=98.60: 100%|██████████| 469/469 [00:22<00:00, 21.12it/s]\n"
          ]
        },
        {
          "output_type": "stream",
          "name": "stdout",
          "text": [
            "Test set: Average loss: 0.0267, Accuracy: 9916/10000 (99.16%)\n",
            "\n",
            "Adjusting learning rate of group 0 to 1.0000e-02.\n",
            "Epoch 8\n"
          ]
        },
        {
          "output_type": "stream",
          "name": "stderr",
          "text": [
            "Train: Loss=0.0186 Batch_id=468 Accuracy=98.72: 100%|██████████| 469/469 [00:22<00:00, 20.90it/s]\n"
          ]
        },
        {
          "output_type": "stream",
          "name": "stdout",
          "text": [
            "Test set: Average loss: 0.0273, Accuracy: 9915/10000 (99.15%)\n",
            "\n",
            "Adjusting learning rate of group 0 to 1.0000e-02.\n",
            "Epoch 9\n"
          ]
        },
        {
          "output_type": "stream",
          "name": "stderr",
          "text": [
            "Train: Loss=0.0378 Batch_id=468 Accuracy=98.72: 100%|██████████| 469/469 [00:23<00:00, 19.89it/s]\n"
          ]
        },
        {
          "output_type": "stream",
          "name": "stdout",
          "text": [
            "Test set: Average loss: 0.0231, Accuracy: 9926/10000 (99.26%)\n",
            "\n",
            "Adjusting learning rate of group 0 to 1.0000e-02.\n",
            "Epoch 10\n"
          ]
        },
        {
          "output_type": "stream",
          "name": "stderr",
          "text": [
            "Train: Loss=0.0318 Batch_id=468 Accuracy=98.79: 100%|██████████| 469/469 [00:22<00:00, 20.71it/s]\n"
          ]
        },
        {
          "output_type": "stream",
          "name": "stdout",
          "text": [
            "Test set: Average loss: 0.0193, Accuracy: 9939/10000 (99.39%)\n",
            "\n",
            "Adjusting learning rate of group 0 to 1.0000e-03.\n",
            "Epoch 11\n"
          ]
        },
        {
          "output_type": "stream",
          "name": "stderr",
          "text": [
            "Train: Loss=0.0024 Batch_id=468 Accuracy=99.00: 100%|██████████| 469/469 [00:22<00:00, 20.76it/s]\n"
          ]
        },
        {
          "output_type": "stream",
          "name": "stdout",
          "text": [
            "Test set: Average loss: 0.0187, Accuracy: 9940/10000 (99.40%)\n",
            "\n",
            "Adjusting learning rate of group 0 to 1.0000e-03.\n",
            "Epoch 12\n"
          ]
        },
        {
          "output_type": "stream",
          "name": "stderr",
          "text": [
            "Train: Loss=0.0075 Batch_id=468 Accuracy=99.08: 100%|██████████| 469/469 [00:22<00:00, 20.68it/s]\n"
          ]
        },
        {
          "output_type": "stream",
          "name": "stdout",
          "text": [
            "Test set: Average loss: 0.0175, Accuracy: 9937/10000 (99.37%)\n",
            "\n",
            "Adjusting learning rate of group 0 to 1.0000e-03.\n",
            "Epoch 13\n"
          ]
        },
        {
          "output_type": "stream",
          "name": "stderr",
          "text": [
            "Train: Loss=0.0120 Batch_id=468 Accuracy=99.14: 100%|██████████| 469/469 [00:22<00:00, 20.61it/s]\n"
          ]
        },
        {
          "output_type": "stream",
          "name": "stdout",
          "text": [
            "Test set: Average loss: 0.0173, Accuracy: 9945/10000 (99.45%)\n",
            "\n",
            "Adjusting learning rate of group 0 to 1.0000e-03.\n",
            "Epoch 14\n"
          ]
        },
        {
          "output_type": "stream",
          "name": "stderr",
          "text": [
            "Train: Loss=0.0153 Batch_id=468 Accuracy=99.15: 100%|██████████| 469/469 [00:22<00:00, 20.64it/s]\n"
          ]
        },
        {
          "output_type": "stream",
          "name": "stdout",
          "text": [
            "Test set: Average loss: 0.0192, Accuracy: 9939/10000 (99.39%)\n",
            "\n",
            "Adjusting learning rate of group 0 to 1.0000e-03.\n",
            "Epoch 15\n"
          ]
        },
        {
          "output_type": "stream",
          "name": "stderr",
          "text": [
            "Train: Loss=0.0165 Batch_id=468 Accuracy=99.18: 100%|██████████| 469/469 [00:22<00:00, 20.41it/s]\n"
          ]
        },
        {
          "output_type": "stream",
          "name": "stdout",
          "text": [
            "Test set: Average loss: 0.0172, Accuracy: 9946/10000 (99.46%)\n",
            "\n",
            "Adjusting learning rate of group 0 to 1.0000e-03.\n",
            "Epoch 16\n"
          ]
        },
        {
          "output_type": "stream",
          "name": "stderr",
          "text": [
            "Train: Loss=0.0046 Batch_id=468 Accuracy=99.14: 100%|██████████| 469/469 [00:22<00:00, 20.54it/s]\n"
          ]
        },
        {
          "output_type": "stream",
          "name": "stdout",
          "text": [
            "Test set: Average loss: 0.0172, Accuracy: 9942/10000 (99.42%)\n",
            "\n",
            "Adjusting learning rate of group 0 to 1.0000e-04.\n",
            "Epoch 17\n"
          ]
        },
        {
          "output_type": "stream",
          "name": "stderr",
          "text": [
            "Train: Loss=0.0049 Batch_id=468 Accuracy=99.19: 100%|██████████| 469/469 [00:22<00:00, 20.61it/s]\n"
          ]
        },
        {
          "output_type": "stream",
          "name": "stdout",
          "text": [
            "Test set: Average loss: 0.0170, Accuracy: 9946/10000 (99.46%)\n",
            "\n",
            "Adjusting learning rate of group 0 to 1.0000e-04.\n",
            "Epoch 18\n"
          ]
        },
        {
          "output_type": "stream",
          "name": "stderr",
          "text": [
            "Train: Loss=0.0128 Batch_id=468 Accuracy=99.19: 100%|██████████| 469/469 [00:23<00:00, 19.89it/s]\n"
          ]
        },
        {
          "output_type": "stream",
          "name": "stdout",
          "text": [
            "Test set: Average loss: 0.0177, Accuracy: 9940/10000 (99.40%)\n",
            "\n",
            "Adjusting learning rate of group 0 to 1.0000e-04.\n",
            "Epoch 19\n"
          ]
        },
        {
          "output_type": "stream",
          "name": "stderr",
          "text": [
            "Train: Loss=0.0499 Batch_id=468 Accuracy=99.18: 100%|██████████| 469/469 [00:23<00:00, 20.29it/s]\n"
          ]
        },
        {
          "output_type": "stream",
          "name": "stdout",
          "text": [
            "Test set: Average loss: 0.0172, Accuracy: 9941/10000 (99.41%)\n",
            "\n",
            "Adjusting learning rate of group 0 to 1.0000e-04.\n",
            "Epoch 20\n"
          ]
        },
        {
          "output_type": "stream",
          "name": "stderr",
          "text": [
            "Train: Loss=0.0052 Batch_id=468 Accuracy=99.20: 100%|██████████| 469/469 [00:22<00:00, 20.42it/s]\n"
          ]
        },
        {
          "output_type": "stream",
          "name": "stdout",
          "text": [
            "Test set: Average loss: 0.0176, Accuracy: 9944/10000 (99.44%)\n",
            "\n",
            "Adjusting learning rate of group 0 to 1.0000e-04.\n"
          ]
        }
      ]
    },
    {
      "cell_type": "markdown",
      "source": [
        "# Visualise training and test losses and accuracies"
      ],
      "metadata": {
        "id": "B-LM-Z1k6FcF"
      }
    },
    {
      "cell_type": "code",
      "source": [
        "# plot training history\n",
        "plt.figure(figsize=(12,12))\n",
        "plt.subplot(2,1,1)\n",
        "ax = plt.gca()\n",
        "ax.set_xlim([0, num_epochs + 1])\n",
        "plt.ylabel('Loss')\n",
        "plt.plot(range(1, num_epochs + 1), train_losses[:num_epochs+1], 'r', label='Training Loss')\n",
        "plt.plot(range(1, num_epochs + 1), test_losses[:num_epochs+1], 'b', label='Validation Loss')\n",
        "ax.grid(linestyle='-.')\n",
        "plt.legend()\n",
        "plt.subplot(2,1,2)\n",
        "ax = plt.gca()\n",
        "ax.set_xlim([0, num_epochs+1])\n",
        "plt.ylabel('Accuracy')\n",
        "plt.plot(range(1, num_epochs + 1), train_acc[:num_epochs+1], 'r', label='Training Accuracy')\n",
        "plt.plot(range(1, num_epochs + 1), test_acc[:num_epochs+1], 'b', label='Validation Accuracy')\n",
        "ax.grid(linestyle='-.')\n",
        "plt.legend()\n",
        "plt.show()"
      ],
      "metadata": {
        "colab": {
          "base_uri": "https://localhost:8080/",
          "height": 989
        },
        "id": "YsWHnii-CQ1k",
        "outputId": "fca0678a-b6a1-486b-d934-9ca43fa7b7a8"
      },
      "execution_count": null,
      "outputs": [
        {
          "output_type": "display_data",
          "data": {
            "text/plain": [
              "<Figure size 1200x1200 with 2 Axes>"
            ],
            "image/png": "[encoded data removed]"
          },
          "metadata": {}
        }
      ]
    },
    {
      "cell_type": "code",
      "source": [],
      "metadata": {
        "id": "vjGcKj40rbi3"
      },
      "execution_count": null,
      "outputs": []
    }
  ]
}